{
 "cells": [
  {
   "cell_type": "markdown",
   "metadata": {},
   "source": [
    "#### Imports"
   ]
  },
  {
   "cell_type": "code",
   "execution_count": 1,
   "metadata": {},
   "outputs": [],
   "source": [
    "import sys\n",
    "sys.path.append('../../../')\n",
    "\n",
    "from Wrapper.PromptManager import PromptManager\n",
    "from Wrapper.OpenAIManager import OpenAIManager\n",
    "from Wrapper.enums import OpenAIModelsChatCompletion"
   ]
  },
  {
   "cell_type": "markdown",
   "metadata": {},
   "source": [
    "#### Initialisation & Overall Settings"
   ]
  },
  {
   "cell_type": "code",
   "execution_count": 2,
   "metadata": {},
   "outputs": [],
   "source": [
    "prompt_manager = PromptManager()\n",
    "openai_manager = OpenAIManager(model=OpenAIModelsChatCompletion.GPT_4_1106_PREVIEW.name, response_format=\"json\")"
   ]
  },
  {
   "cell_type": "markdown",
   "metadata": {},
   "source": [
    "#### Used Prompt"
   ]
  },
  {
   "cell_type": "code",
   "execution_count": 3,
   "metadata": {},
   "outputs": [],
   "source": [
    "messages = [\n",
    "{\"role\": \"system\", \"content\": \"You are an expert in E-Commerce Keyword optimization & Keyword research specifically for online marketplaces such as Amazon and a very helpful assistant designed to output JSON.\"},\n",
    "{\"role\": \"user\", \"content\": f\"\"\"\n",
    "    I have the following product details, mostly in a different language, and a list of keywords.\n",
    "    Please create a new title, description, and features list in Dutch, incorporating the original details and the keywords where possible. Optimize it for an audience on a dutch online Marketplace like BOL.com.\n",
    "    The response should be in JSON format without any additional text.\n",
    "\n",
    "\n",
    "    Original Product Details:\n",
    "    - Title: ...\n",
    "    - Category: ...\n",
    "    - Description: ...\n",
    "    - Features: ...\n",
    "    - Keywords: ...\n",
    "\n",
    "    Required Response Format:\n",
    "\n",
    "    {{'Title': '...', 'Description': '...', 'Features': ['feature1', 'feature2', 'feature3']}}\n",
    "\"\"\"}\n",
    "]"
   ]
  },
  {
   "cell_type": "markdown",
   "metadata": {},
   "source": [
    "#### Execution & Saving "
   ]
  },
  {
   "cell_type": "code",
   "execution_count": 5,
   "metadata": {},
   "outputs": [
    {
     "name": "stdout",
     "output_type": "stream",
     "text": [
      "{'Title': 'Nieuwe Titel in het Nederlands', 'Description': 'Nieuwe Beschrijving in het Nederlands', 'Features': ['Kenmerk 1 in het Nederlands', 'Kenmerk 2 in het Nederlands', 'Kenmerk 3 in het Nederlands']}\n"
     ]
    }
   ],
   "source": [
    "response = openai_manager.execute_task_chat_completion(messages=messages, temperature=0.2)\n",
    "serialzed_response = prompt_manager.serialize_chat_completion_response(response=response)\n",
    "print(serialzed_response)\n",
    "prompt_manager.save_to_file(response=serialzed_response, prompt=messages,  file_path=\"data/\")"
   ]
  },
  {
   "cell_type": "code",
   "execution_count": null,
   "metadata": {},
   "outputs": [],
   "source": []
  }
 ],
 "metadata": {
  "kernelspec": {
   "display_name": "venv",
   "language": "python",
   "name": "python3"
  },
  "language_info": {
   "codemirror_mode": {
    "name": "ipython",
    "version": 3
   },
   "file_extension": ".py",
   "mimetype": "text/x-python",
   "name": "python",
   "nbconvert_exporter": "python",
   "pygments_lexer": "ipython3",
   "version": "3.10.5"
  }
 },
 "nbformat": 4,
 "nbformat_minor": 2
}
