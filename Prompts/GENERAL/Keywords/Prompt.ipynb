{
 "cells": [
  {
   "cell_type": "markdown",
   "metadata": {},
   "source": [
    "#### Imports"
   ]
  },
  {
   "cell_type": "code",
   "execution_count": 1,
   "metadata": {},
   "outputs": [],
   "source": [
    "import sys\n",
    "sys.path.append('../../../')\n",
    "\n",
    "from Wrapper.PromptManager import PromptManager\n",
    "from Wrapper.OpenAIManager import OpenAIManager\n",
    "from Wrapper.enums import OpenAIModelsChatCompletion"
   ]
  },
  {
   "cell_type": "markdown",
   "metadata": {},
   "source": [
    "#### Initialisation & Overall Settings"
   ]
  },
  {
   "cell_type": "code",
   "execution_count": 2,
   "metadata": {},
   "outputs": [],
   "source": [
    "prompt_manager = PromptManager()\n",
    "openai_manager = OpenAIManager(model=OpenAIModelsChatCompletion.GPT_4_1106_PREVIEW.name, response_format=\"json\")"
   ]
  },
  {
   "cell_type": "markdown",
   "metadata": {},
   "source": [
    "#### Used Prompt"
   ]
  },
  {
   "cell_type": "code",
   "execution_count": 3,
   "metadata": {},
   "outputs": [],
   "source": [
    "product_title = \"Lego Starwars Schiff 5000 Teile\"\n",
    "product_description = \"Super für kleine Kinder geeignet.\"\n",
    "product_features = \"Kann schwimmen, fliegen und kaputt gehen.\"\n",
    "\n",
    "\n",
    "\n",
    "\n",
    "messages = [\n",
    "            {\"role\": \"system\", \"content\": \"You are an expert in E-Commerce Keyword optimization & Keyword research specifically for online marketplaces such as Amazon and a very helpful assistant designed to output JSON.\"},\n",
    "\n",
    "\n",
    "            {\"role\": \"user\", \"content\": f\"\"\"\n",
    "                I'm extracting product titles & descriptions and information from the Amazon API and need to generate a list of 5 most descriptive search term keywords from that extracted data. I use the keywords to then understand the product niche and write product listings for these products on new online marketplaces.\n",
    "                Please analyze the following product data and generate relevant, effective search term keywords tailored for marketplace search.\n",
    "            \t    The Title should give you the most important search term keywords already, extend them by other search terms you find from the Description.\n",
    "                The response should be in JSON format without any additional text. I will need translations to German, English and Dutch.\n",
    "\n",
    "\n",
    "                Product Details:\n",
    "                - Title: {product_title}\n",
    "                - Description: {product_description}\n",
    "                - Features: {product_features}\n",
    "\n",
    "\n",
    "                Required Response Format:\n",
    "\n",
    "\n",
    "                {{'Dutch': ['keyword1', 'keyword2', 'keyword3'], 'English': [...], 'German': [...]}}\n",
    "            \"\"\" }\n",
    "        ]"
   ]
  },
  {
   "cell_type": "markdown",
   "metadata": {},
   "source": [
    "#### Execution & Saving "
   ]
  },
  {
   "cell_type": "code",
   "execution_count": 4,
   "metadata": {},
   "outputs": [
    {
     "name": "stdout",
     "output_type": "stream",
     "text": [
      "{'Dutch': ['Lego Star Wars schip', 'speelgoed voor kinderen', '5000 stukjes', 'zwembaar speelgoed', 'vliegend speelgoed'], 'English': ['Lego Star Wars ship', \"children's toy\", '5000 pieces', 'floatable toy', 'flying toy'], 'German': ['Lego Starwars Schiff', 'Kinder Spielzeug', '5000 Teile', 'schwimmfähiges Spielzeug', 'fliegendes Spielzeug']}\n"
     ]
    }
   ],
   "source": [
    "response = openai_manager.execute_task_chat_completion(messages=messages, temperature=0.2)\n",
    "serialzed_response = prompt_manager.serialize_chat_completion_response(response=response)\n",
    "print(serialzed_response)\n",
    "prompt_manager.save_to_file(response=serialzed_response, prompt=messages,  file_path=\"data/\")"
   ]
  },
  {
   "cell_type": "code",
   "execution_count": null,
   "metadata": {},
   "outputs": [],
   "source": []
  }
 ],
 "metadata": {
  "kernelspec": {
   "display_name": "venv",
   "language": "python",
   "name": "python3"
  },
  "language_info": {
   "codemirror_mode": {
    "name": "ipython",
    "version": 3
   },
   "file_extension": ".py",
   "mimetype": "text/x-python",
   "name": "python",
   "nbconvert_exporter": "python",
   "pygments_lexer": "ipython3",
   "version": "3.10.5"
  }
 },
 "nbformat": 4,
 "nbformat_minor": 2
}
